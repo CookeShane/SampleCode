{
 "cells": [
  {
   "cell_type": "markdown",
   "metadata": {},
   "source": [
    "# **Sample Code Blocks**\n",
    "***\n",
    "**Author:** Shane Cooke\n",
    "\n",
    "**Date:** 27/07/2023\n",
    "***"
   ]
  },
  {
   "cell_type": "markdown",
   "metadata": {},
   "source": [
    "## PDFs"
   ]
  },
  {
   "cell_type": "markdown",
   "metadata": {},
   "source": [
    "**Reading PDF data using PDFPlumber**"
   ]
  },
  {
   "cell_type": "code",
   "execution_count": 1,
   "metadata": {},
   "outputs": [],
   "source": [
    "import pdfplumber\n",
    "\n",
    "def read_pdf(filename):\n",
    "    text_pages = []\n",
    "    with pdfplumber.open(f'./{filename}') as pdf:\n",
    "        for page in pdf.pages:\n",
    "            text_pages.append(page.extract_text())\n",
    "    \n",
    "    return \"\\n\".join(text_pages)"
   ]
  },
  {
   "cell_type": "markdown",
   "metadata": {},
   "source": [
    "**Find PDFs in the current directory and add to a list**"
   ]
  },
  {
   "cell_type": "code",
   "execution_count": null,
   "metadata": {},
   "outputs": [],
   "source": [
    "import os\n",
    "import glob\n",
    "\n",
    "def find_pdfs():\n",
    "    list_pdfs = []\n",
    "    current_directory = os.getcwd()\n",
    "    pdf_files = glob.glob(os.path.join(current_directory, \"*.pdf\"))\n",
    "\n",
    "    for pdf_file in pdf_files:\n",
    "        # Extract the file name without the path\n",
    "        file_name = os.path.basename(pdf_file)\n",
    "        list_pdfs.append(file_name)\n",
    "    \n",
    "    if len(list_pdfs) == 0:\n",
    "        print('ERROR!')\n",
    "\n",
    "    return list_pdfs"
   ]
  },
  {
   "cell_type": "markdown",
   "metadata": {},
   "source": [
    "**Extracting text from a PDF using regex**"
   ]
  },
  {
   "cell_type": "code",
   "execution_count": null,
   "metadata": {},
   "outputs": [],
   "source": [
    "import re\n",
    "\n",
    "def extract_invoice_details(text):\n",
    "    matches = re.findall(r'^.*Card No. .+', text, re.MULTILINE)\n",
    "    for match in matches:\n",
    "        total_amount = match.split()[-1]    # Gets the last word in the line, i.e. the total spent\n",
    "        card_info = match.split()[2].split('-')\n",
    "        card_number = card_info[0]  # Takes characters before the '-' as the card number\n"
   ]
  },
  {
   "cell_type": "markdown",
   "metadata": {},
   "source": [
    "***\n",
    "## Excel Sheets"
   ]
  },
  {
   "cell_type": "markdown",
   "metadata": {},
   "source": [
    "**Create new sheet**"
   ]
  },
  {
   "cell_type": "code",
   "execution_count": null,
   "metadata": {},
   "outputs": [],
   "source": [
    "import openpyxl\n",
    "\n",
    "def duplicate_sheet():\n",
    "    try:\n",
    "        wb = openpyxl.load_workbook('your_existing_workbook.xlsx')\n",
    "    except FileNotFoundError:\n",
    "        wb = openpyxl.Workbook() # Creates it if it doesn't exist\n",
    "\n",
    "    # Create a new sheet named 'NewSheet'\n",
    "    sheet_name = 'NewSheet'\n",
    "    sheet = wb.create_sheet(title=sheet_name)\n",
    "\n",
    "    # Save the workbook\n",
    "    wb.save('your_existing_workbook.xlsx')"
   ]
  },
  {
   "cell_type": "markdown",
   "metadata": {},
   "source": [
    "**Create new sheet by duplicating existing sheet**"
   ]
  },
  {
   "cell_type": "code",
   "execution_count": null,
   "metadata": {},
   "outputs": [],
   "source": [
    "import openpyxl\n",
    "\n",
    "def duplicate_sheet():\n",
    "    # Load the workbook\n",
    "    workbook = ''\n",
    "    wb = openpyxl.load_workbook(workbook)\n",
    "\n",
    "    # Create a new sheet with the name based on the invoice date (e.g., \"June2023\")\n",
    "    sheet_name = ''\n",
    "    if sheet_name in wb.sheetnames:\n",
    "        print('ERROR!')\n",
    "    \n",
    "    # Duplicate the 'Default' sheet and rename it to the new sheet_name\n",
    "    default_sheet = wb['Default']\n",
    "    sheet = wb.copy_worksheet(default_sheet)\n",
    "    sheet.title = sheet_name"
   ]
  },
  {
   "cell_type": "markdown",
   "metadata": {},
   "source": [
    "**Format excel cells**"
   ]
  },
  {
   "cell_type": "code",
   "execution_count": null,
   "metadata": {},
   "outputs": [],
   "source": [
    "from openpyxl.styles import PatternFill, Border, Side, Font\n",
    "\n",
    "def format_cells():\n",
    "    wb = openpyxl.load_workbook('')\n",
    "    sheet_name = 'NewSheet'\n",
    "    sheet = wb.create_sheet(title=sheet_name)\n",
    "\n",
    "    fill_colour = PatternFill(start_color=\"D9D9D9\", end_color=\"D9D9D9\", fill_type=\"solid\")\n",
    "    border = Border(left=Side(style=\"medium\"), right=Side(style=\"medium\"))\n",
    "\n",
    "    for row_index in range(1, 10):\n",
    "        cell = f'H{row_index}'\n",
    "        sheet[cell] = f'=SUM(C{row_index}:G{row_index})'    # Insert value\n",
    "        sheet[cell].fill = fill_colour                      # Change the fill colour\n",
    "        sheet[cell].font = Font(bold=True)                 # Make the text bold\n",
    "        sheet[cell].border = border                         # Add border"
   ]
  },
  {
   "cell_type": "markdown",
   "metadata": {},
   "source": [
    "**Writing to Excel**"
   ]
  },
  {
   "cell_type": "code",
   "execution_count": null,
   "metadata": {},
   "outputs": [],
   "source": [
    "import openpyxl\n",
    "\n",
    "def write_to_excel():\n",
    "    wb = openpyxl.load_workbook('')\n",
    "    sheet_name = 'NewSheet'\n",
    "    sheet = wb.create_sheet(title=sheet_name)\n",
    "    \n",
    "    cell = 'C5'\n",
    "    sheet[cell] = 'This Value'"
   ]
  },
  {
   "cell_type": "markdown",
   "metadata": {},
   "source": [
    "*** \n",
    "## GUIs & Popups"
   ]
  },
  {
   "cell_type": "markdown",
   "metadata": {},
   "source": [
    "**Messsage box popup**"
   ]
  },
  {
   "cell_type": "code",
   "execution_count": null,
   "metadata": {},
   "outputs": [],
   "source": [
    "# Popup that pauses the code until 'okay' clicked with customisable text\n",
    " \n",
    "import tkinter as tk\n",
    "from tkinter import messagebox\n",
    "\n",
    "def show_popup(title, message):\n",
    "    app = tk.Tk()\n",
    "    app.withdraw()  # Hide the main window to show only the popup\n",
    "    title = 'Error Occured' # Top information bar\n",
    "    message = 'Something went wrong!' # Main body of text for the popup\n",
    "\n",
    "    messagebox.showinfo(title, message)"
   ]
  },
  {
   "cell_type": "markdown",
   "metadata": {},
   "source": [
    "**Open File Explorer and save path of selected paths**"
   ]
  },
  {
   "cell_type": "code",
   "execution_count": null,
   "metadata": {},
   "outputs": [],
   "source": [
    "import tkinter as tk\n",
    "from tkinter import filedialog\n",
    "\n",
    "def get_file_paths():\n",
    "    root = tk.Tk()\n",
    "    root.withdraw()\n",
    "\n",
    "    file_paths = filedialog.askopenfilenames(\n",
    "        title=\"Select files\",\n",
    "        filetypes=((\"All files\", \"*.*\"),)\n",
    "    )\n",
    "\n",
    "    return file_paths"
   ]
  }
 ],
 "metadata": {
  "kernelspec": {
   "display_name": "Python 3",
   "language": "python",
   "name": "python3"
  },
  "language_info": {
   "codemirror_mode": {
    "name": "ipython",
    "version": 3
   },
   "file_extension": ".py",
   "mimetype": "text/x-python",
   "name": "python",
   "nbconvert_exporter": "python",
   "pygments_lexer": "ipython3",
   "version": "3.11.3"
  },
  "orig_nbformat": 4
 },
 "nbformat": 4,
 "nbformat_minor": 2
}
